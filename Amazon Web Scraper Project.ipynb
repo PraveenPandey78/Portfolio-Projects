{
 "cells": [
  {
   "cell_type": "code",
   "execution_count": 4,
   "id": "1bd20a58",
   "metadata": {},
   "outputs": [],
   "source": [
    "# import libraries\n",
    "\n",
    "from bs4 import BeautifulSoup\n",
    "import requests\n",
    "import time\n",
    "import datetime\n",
    "import smtplib"
   ]
  },
  {
   "cell_type": "code",
   "execution_count": 52,
   "id": "28520c24",
   "metadata": {},
   "outputs": [
    {
     "name": "stdout",
     "output_type": "stream",
     "text": [
      "\n",
      "                   DUDEME Data Nerd | Programmer T Shirt | Coding T Shirt for Coders | Developer T Shirt | Round Neck Cotton T-Shirt | Geek Half Sleeve T Shirt for Men & Women\n",
      "                  \n",
      "\n",
      "                    3 ratings\n",
      "                   \n"
     ]
    }
   ],
   "source": [
    "# connect to website\n",
    "\n",
    "URL= 'https://www.amazon.in/DUDEME-Programmer-Coding-Developer-T-Shirt/dp/B08SF2QSR5/ref=sr_1_1?keywords=data+nerd+tshirt&qid=1657004802&sr=8-1'\n",
    "\n",
    "headers= {\"User-Agent\": \"Mozilla/5.0 (Macintosh; Intel Mac OS X 10_15_7) AppleWebKit/605.1.15 (KHTML, like Gecko) Version/15.3 Safari/605.1.15\"}\n",
    "\n",
    "page= requests.get(URL, headers=headers)\n",
    "\n",
    "soup1= BeautifulSoup(page.content,\"html.parser\")\n",
    "\n",
    "soup2= BeautifulSoup(soup1.prettify(),\"html.parser\")\n",
    "\n",
    "title= soup2.find(id='productTitle').get_text()\n",
    "\n",
    "ratings= soup2.find(id='acrCustomerReviewText').get_text()\n",
    "\n",
    "print(title)\n",
    "print(ratings)\n",
    "\n",
    "\n",
    "\n",
    "\n",
    "\n"
   ]
  },
  {
   "cell_type": "code",
   "execution_count": 55,
   "id": "c820cdce",
   "metadata": {},
   "outputs": [
    {
     "name": "stdout",
     "output_type": "stream",
     "text": [
      "DUDEME Data Nerd | Programmer T Shirt | Coding T Shirt for Coders | Developer T Shirt | Round Neck Cotton T-Shirt | Geek Half Sleeve T Shirt for Men & Women\n",
      "3 ratings\n"
     ]
    },
    {
     "data": {
      "text/plain": [
       "str"
      ]
     },
     "execution_count": 55,
     "metadata": {},
     "output_type": "execute_result"
    }
   ],
   "source": [
    "title = title.strip()\n",
    "ratings = ratings.strip()\n",
    "\n",
    "print(title)\n",
    "print(ratings)\n",
    "type(ratings)"
   ]
  },
  {
   "cell_type": "code",
   "execution_count": 61,
   "id": "0608afa9",
   "metadata": {},
   "outputs": [
    {
     "name": "stdout",
     "output_type": "stream",
     "text": [
      "2022-07-06\n"
     ]
    }
   ],
   "source": [
    "import datetime\n",
    "\n",
    "today = datetime.date.today()\n",
    "\n",
    "print(today)"
   ]
  },
  {
   "cell_type": "code",
   "execution_count": 62,
   "id": "0ebf00d5",
   "metadata": {},
   "outputs": [],
   "source": [
    "import csv\n",
    "\n",
    "header = ['Title','Ratings','Date']\n",
    "data = [title,ratings,today]\n",
    "\n",
    "with open('Amazonwebscraperdataset.csv','w',newline='',encoding='UTF8') as f:\n",
    "    writer = csv.writer(f)\n",
    "    writer.writerow(header)\n",
    "    writer.writerow(data)"
   ]
  },
  {
   "cell_type": "code",
   "execution_count": 79,
   "id": "0e598190",
   "metadata": {},
   "outputs": [
    {
     "name": "stdout",
     "output_type": "stream",
     "text": [
      "                                               Title    Ratings        Date\n",
      "0  DUDEME Data Nerd | Programmer T Shirt | Coding...  3 ratings  2022-07-06\n",
      "1  DUDEME Data Nerd | Programmer T Shirt | Coding...  3 ratings  2022-07-06\n",
      "2  DUDEME Data Nerd | Programmer T Shirt | Coding...  3 ratings  2022-07-06\n",
      "3  DUDEME Data Nerd | Programmer T Shirt | Coding...  3 ratings  2022-07-06\n"
     ]
    }
   ],
   "source": [
    "import pandas as pd\n",
    "\n",
    "df = pd.read_csv('/Users/praveenpandey/Amazonwebscraperdataset.csv')\n",
    "\n",
    "print(df)"
   ]
  },
  {
   "cell_type": "code",
   "execution_count": 78,
   "id": "67a33600",
   "metadata": {},
   "outputs": [],
   "source": [
    "# Now we append data to the csv\n",
    "\n",
    "with open('Amazonwebscraperdataset.csv','a+',newline='',encoding='UTF8') as f:\n",
    "    writer = csv.writer(f)\n",
    "    writer.writerow(data)"
   ]
  },
  {
   "cell_type": "code",
   "execution_count": 80,
   "id": "f05f26b6",
   "metadata": {},
   "outputs": [],
   "source": [
    "def  check_ratings() :\n",
    "\n",
    "    URL= 'https://www.amazon.in/DUDEME-Programmer-Coding-Developer-T-Shirt/dp/B08SF2QSR5/ref=sr_1_1?keywords=data+nerd+tshirt&qid=1657004802&sr=8-1'\n",
    "\n",
    "    headers= {\"User-Agent\": \"Mozilla/5.0 (Macintosh; Intel Mac OS X 10_15_7) AppleWebKit/605.1.15 (KHTML, like Gecko) Version/15.3 Safari/605.1.15\"}\n",
    "\n",
    "    page= requests.get(URL, headers=headers)\n",
    "\n",
    "    soup1= BeautifulSoup(page.content,\"html.parser\")\n",
    "\n",
    "    soup2= BeautifulSoup(soup1.prettify(),\"html.parser\")\n",
    "\n",
    "    title= soup2.find(id='productTitle').get_text()\n",
    "\n",
    "    ratings= soup2.find(id='acrCustomerReviewText').get_text()\n",
    "\n",
    "    title = title.strip()\n",
    "    ratings = ratings.strip()\n",
    "\n",
    "    import datetime\n",
    "\n",
    "    today = datetime.date.today()\n",
    "    \n",
    "    import csv\n",
    "\n",
    "    header = ['Title','Ratings','Date']\n",
    "    data = [title,ratings,today]\n",
    "    \n",
    "    with open('Amazonwebscraperdataset.csv','a+',newline='',encoding='UTF8') as f:\n",
    "        writer = csv.writer(f)\n",
    "        writer.writerow(data)\n",
    "        "
   ]
  },
  {
   "cell_type": "code",
   "execution_count": null,
   "id": "9dbe811d",
   "metadata": {},
   "outputs": [],
   "source": [
    "while(True):\n",
    "    check_ratings()\n",
    "    time.sleep(86400)\n"
   ]
  },
  {
   "cell_type": "code",
   "execution_count": 82,
   "id": "1d4a8bbd",
   "metadata": {},
   "outputs": [
    {
     "name": "stdout",
     "output_type": "stream",
     "text": [
      "                                               Title    Ratings        Date\n",
      "0  DUDEME Data Nerd | Programmer T Shirt | Coding...  3 ratings  2022-07-06\n",
      "1  DUDEME Data Nerd | Programmer T Shirt | Coding...  3 ratings  2022-07-06\n",
      "2  DUDEME Data Nerd | Programmer T Shirt | Coding...  3 ratings  2022-07-06\n",
      "3  DUDEME Data Nerd | Programmer T Shirt | Coding...  3 ratings  2022-07-06\n",
      "4  DUDEME Data Nerd | Programmer T Shirt | Coding...  3 ratings  2022-07-06\n",
      "5  DUDEME Data Nerd | Programmer T Shirt | Coding...  3 ratings  2022-07-06\n",
      "6  DUDEME Data Nerd | Programmer T Shirt | Coding...  3 ratings  2022-07-06\n"
     ]
    }
   ],
   "source": [
    "import pandas as pd\n",
    "\n",
    "df = pd.read_csv('/Users/praveenpandey/Amazonwebscraperdataset.csv')\n",
    "\n",
    "print(df)"
   ]
  },
  {
   "cell_type": "code",
   "execution_count": null,
   "id": "59aa6b6b",
   "metadata": {},
   "outputs": [],
   "source": []
  }
 ],
 "metadata": {
  "kernelspec": {
   "display_name": "Python 3 (ipykernel)",
   "language": "python",
   "name": "python3"
  },
  "language_info": {
   "codemirror_mode": {
    "name": "ipython",
    "version": 3
   },
   "file_extension": ".py",
   "mimetype": "text/x-python",
   "name": "python",
   "nbconvert_exporter": "python",
   "pygments_lexer": "ipython3",
   "version": "3.9.12"
  }
 },
 "nbformat": 4,
 "nbformat_minor": 5
}
